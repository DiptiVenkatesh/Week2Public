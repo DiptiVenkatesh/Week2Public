{
 "cells": [
  {
   "cell_type": "markdown",
   "source": "# Neural Network Exercise\n\nIn this Exercise Notebook you will be building your own artificial neural network and seeing how adding different types of layers can affect the validation/testing accuracy. This is based off of the Simple Neural Network with Keras tutorial, so you can reference that for further explanations as well.",
   "metadata": {
    "id": "PlpG_fIiqdJU",
    "colab_type": "text",
    "cell_id": "00000-9c9a3728-b011-43c7-bf1a-e41b0fd973db",
    "deepnote_cell_type": "markdown"
   }
  },
  {
   "cell_type": "code",
   "metadata": {
    "id": "eFSzOvSduDf8",
    "colab_type": "code",
    "colab": {},
    "cell_id": "00001-f3a32089-4af0-4351-9e12-c9184ed70bd3",
    "deepnote_to_be_reexecuted": false,
    "source_hash": "9e6326f3",
    "execution_start": 1626648118250,
    "execution_millis": 8783,
    "deepnote_cell_type": "code"
   },
   "source": "import os\nimport matplotlib.pyplot as plt\nimport pandas as pd\nfrom sklearn.preprocessing import StandardScaler\nfrom sklearn.utils import shuffle\nfrom keras.models import Sequential\nfrom keras.layers import Dense\nimport tensorflow as tf",
   "outputs": [
    {
     "name": "stderr",
     "text": "2021-07-18 22:42:00.666844: W tensorflow/stream_executor/platform/default/dso_loader.cc:60] Could not load dynamic library 'libcudart.so.11.0'; dlerror: libcudart.so.11.0: cannot open shared object file: No such file or directory\n2021-07-18 22:42:00.666903: I tensorflow/stream_executor/cuda/cudart_stub.cc:29] Ignore above cudart dlerror if you do not have a GPU set up on your machine.\n",
     "output_type": "stream"
    }
   ],
   "execution_count": null
  },
  {
   "cell_type": "code",
   "metadata": {
    "id": "Ep_09mlyqa5G",
    "colab_type": "code",
    "colab": {},
    "cell_id": "00002-03dae6a1-a632-4c56-bfaa-e25fda47e39d",
    "deepnote_to_be_reexecuted": false,
    "source_hash": "7a6e8b1d",
    "execution_start": 1626648127033,
    "execution_millis": 183,
    "deepnote_cell_type": "code"
   },
   "source": "os.system('wget https://raw.githubusercontent.com/BeaverWorksMedlytics2020/Data_Public/master/NotebookExampleData/Week2/spoken_digit_manual_features.csv')",
   "outputs": [
    {
     "name": "stderr",
     "text": "--2021-07-18 22:42:07--  https://raw.githubusercontent.com/BeaverWorksMedlytics2020/Data_Public/master/NotebookExampleData/Week2/spoken_digit_manual_features.csv\nResolving raw.githubusercontent.com (raw.githubusercontent.com)... 185.199.108.133, 185.199.111.133, 185.199.109.133, ...\nConnecting to raw.githubusercontent.com (raw.githubusercontent.com)|185.199.108.133|:443... connected.\nHTTP request sent, awaiting response... 200 OK\nLength: 220478 (215K) [text/plain]\nSaving to: ‘spoken_digit_manual_features.csv’\n\n     0K .......... .......... .......... .......... .......... 23% 59.4M 0s\n    50K .......... .......... .......... .......... .......... 46% 73.4M 0s\n   100K .......... .......... .......... .......... .......... 69% 53.3M 0s\n   150K .......... .......... .......... .......... .......... 92%  113M 0s\n   200K .......... .....                                      100% 91.5M=0.003s\n\n2021-07-18 22:42:07 (70.2 MB/s) - ‘spoken_digit_manual_features.csv’ saved [220478/220478]\n\n",
     "output_type": "stream"
    },
    {
     "output_type": "execute_result",
     "execution_count": 2,
     "data": {
      "text/plain": "0"
     },
     "metadata": {}
    }
   ],
   "execution_count": null
  },
  {
   "cell_type": "markdown",
   "source": "## Load Training Data and Pre-processed Features\n\nYour goal is to build a neural network that learns to classify which of the 5 speakers is recorded in a signal sample. Your prediction will be based off of features we've already pre-extracted for you and put into this CSV: spectral centroid `SC`, spectral flatness `SF`, and maximum frequency `MF`.",
   "metadata": {
    "id": "zChcGaqVysRB",
    "colab_type": "text",
    "cell_id": "00003-50a1200a-d054-4d6c-b29e-2994d7440e9b",
    "deepnote_cell_type": "markdown"
   }
  },
  {
   "cell_type": "code",
   "metadata": {
    "id": "SVwsmOGvw7jp",
    "colab_type": "code",
    "colab": {},
    "cell_id": "00004-e83ced5d-b239-4a76-bb82-8687deac6fd7",
    "deepnote_to_be_reexecuted": false,
    "source_hash": "acd4a82d",
    "execution_start": 1626648127221,
    "execution_millis": 38,
    "deepnote_cell_type": "code"
   },
   "source": "# Load csv containing raw data, labels, and pre-processed features\nspoken_df = pd.read_csv('spoken_digit_manual_features.csv', index_col = 0)\nprint(spoken_df.head(10))\nprint('\\n')\n\n# Set speakers\nspeakers = set(spoken_df['speaker'])\nprint(f'There are {len(speakers)} unique speakers in the dataset')",
   "outputs": [
    {
     "name": "stdout",
     "text": "                file  digit   speaker  trial           SC        SF  \\\n0   5_yweweler_8.wav      5  yweweler      8  1029.497959  0.397336   \n1    3_george_49.wav      3    george      4  1881.296834  0.387050   \n2  9_yweweler_44.wav      9  yweweler      4  1093.951856  0.394981   \n3  8_yweweler_33.wav      8  yweweler      3  1409.543285  0.487496   \n4      7_theo_34.wav      7      theo      3   887.361601  0.396825   \n5   1_jackson_45.wav      1   jackson      4  1007.568129  0.324100   \n6  6_yweweler_18.wav      6  yweweler      1  1286.701352  0.498813   \n7    9_george_35.wav      9    george      3  1405.092061  0.353083   \n8   9_jackson_32.wav      9   jackson      3  1172.899961  0.477907   \n9    8_george_26.wav      8    george      2  1959.977577  0.462901   \n\n           MF  \n0  745.878340  \n1  323.943662  \n2  244.648318  \n3  392.350401  \n4  130.640309  \n5  216.306156  \n6  400.715564  \n7  447.239693  \n8  114.892780  \n9  320.537966  \n\n\nThere are 5 unique speakers in the dataset\n",
     "output_type": "stream"
    }
   ],
   "execution_count": null
  },
  {
   "cell_type": "markdown",
   "source": "Converting labels to \"onehot\" vectors:",
   "metadata": {
    "id": "mArY7lB4Akv1",
    "colab_type": "text",
    "cell_id": "00005-e97d90c3-cec1-42f6-920e-9bbdff5329f9",
    "deepnote_cell_type": "markdown"
   }
  },
  {
   "cell_type": "code",
   "metadata": {
    "id": "nLRtFkiYAc3N",
    "colab_type": "code",
    "colab": {},
    "cell_id": "00006-bb5c1f01-72a3-4bc0-b6fd-94c3c9da41a1",
    "deepnote_to_be_reexecuted": false,
    "source_hash": "a29d6318",
    "execution_start": 1626648127254,
    "execution_millis": 1,
    "deepnote_cell_type": "code"
   },
   "source": "# Make dictionary to convert from speaker names to indices\nname2int_dict = {name: ind for (ind, name) in enumerate(set(spoken_df['speaker']))}\n\ny_labels = spoken_df['speaker']\n# Set y_labels to be indices of speaker\ny_labels = [name2int_dict[name] for name in y_labels]",
   "outputs": [],
   "execution_count": null
  },
  {
   "cell_type": "markdown",
   "source": "Standardize data and split into train, validation, and test sets:",
   "metadata": {
    "id": "xUhDZMw1A93D",
    "colab_type": "text",
    "cell_id": "00007-88e7d531-a76d-4be9-95fe-4699faf68808",
    "deepnote_cell_type": "markdown"
   }
  },
  {
   "cell_type": "code",
   "metadata": {
    "id": "TAuzw6ibA3Es",
    "colab_type": "code",
    "colab": {},
    "cell_id": "00008-568224cb-7b24-4aac-b9bf-68a17d23eefc",
    "deepnote_to_be_reexecuted": false,
    "source_hash": "524f00d8",
    "execution_start": 1626648127305,
    "execution_millis": 49,
    "deepnote_cell_type": "code"
   },
   "source": "# Downselect to only the 3 columns of the dataset we are learning from, aka the features\nX_data = spoken_df[['SC', 'SF', 'MF']].to_numpy()\n\n# Decide how large to make validation and test sets\nn_val = 250\nn_test = 250\n\n# Shuffle data before partitioning\nX_data, y_labels = shuffle(X_data, y_labels, random_state = 25)\n\n# Partition\nX_data_test, y_labels_test = X_data[:n_test,:], y_labels[:n_test]\nX_data_val, y_labels_val = X_data[n_test:n_test+n_val,:], y_labels[n_test:n_test+n_val]\nX_data_train, y_labels_train = X_data[n_test+n_val:,:], y_labels[n_test+n_val:]\n\n# Scale data\nscaler = StandardScaler()\nX_data_train=scaler.fit_transform(X_data_train)\nX_data_val = scaler.transform(X_data_val)\nX_data_test = scaler.transform(X_data_test)\n\n# Convert labels to onehot\ny_labels_train = tf.keras.utils.to_categorical(y_labels_train, 5)\ny_labels_val =  tf.keras.utils.to_categorical(y_labels_val, 5)\ny_labels_test =  tf.keras.utils.to_categorical(y_labels_test, 5)\n\ntraining_set = tf.data.Dataset.from_tensor_slices((X_data_train, y_labels_train))",
   "outputs": [
    {
     "name": "stderr",
     "text": "2021-07-18 22:42:07.273674: I tensorflow/compiler/jit/xla_cpu_device.cc:41] Not creating XLA devices, tf_xla_enable_xla_devices not set\n2021-07-18 22:42:07.277546: W tensorflow/stream_executor/platform/default/dso_loader.cc:60] Could not load dynamic library 'libcuda.so.1'; dlerror: libcuda.so.1: cannot open shared object file: No such file or directory\n2021-07-18 22:42:07.277565: W tensorflow/stream_executor/cuda/cuda_driver.cc:326] failed call to cuInit: UNKNOWN ERROR (303)\n2021-07-18 22:42:07.277589: I tensorflow/stream_executor/cuda/cuda_diagnostics.cc:156] kernel driver does not appear to be running on this host (p-ea64f2fe-fb8d-4ed3-839c-873225803319): /proc/driver/nvidia/version does not exist\n2021-07-18 22:42:07.281635: I tensorflow/core/platform/cpu_feature_guard.cc:142] This TensorFlow binary is optimized with oneAPI Deep Neural Network Library (oneDNN) to use the following CPU instructions in performance-critical operations:  AVX2 FMA\nTo enable them in other operations, rebuild TensorFlow with the appropriate compiler flags.\n2021-07-18 22:42:07.283424: I tensorflow/compiler/jit/xla_gpu_device.cc:99] Not creating XLA devices, tf_xla_enable_xla_devices not set\n",
     "output_type": "stream"
    }
   ],
   "execution_count": null
  },
  {
   "cell_type": "markdown",
   "source": "## Aditional Layers\n\nBefore you get to writing your own neural network we'll show you some examples of additional layers you can potetially add that we didn't go over in the tutorial. After reading over our explanations/example code and going through documentation you'll be testing some of these out by putting together a neural network yourself.",
   "metadata": {
    "id": "riycN8SdyxNT",
    "colab_type": "text",
    "cell_id": "00009-b9d15ca8-83e3-4eb3-9165-e635229685c4",
    "deepnote_cell_type": "markdown"
   }
  },
  {
   "cell_type": "markdown",
   "source": "### Dropout Layers\n\nDropout layers randomly omit, or drop, some elements of the output vector from the layer, which helps prevent overfitting and can improve the generalization of your neural network. The dropout rate can be any number between 0 and 1.\n\nhttps://www.tensorflow.org/api_docs/python/tf/keras/layers/Dropout\n\n```python\n# Example\nd_r = 0.6\ntf.keras.layers.Dropout(rate=d_r)\n```",
   "metadata": {
    "id": "DoaZsqc3iEyv",
    "colab_type": "text",
    "cell_id": "00010-b363d645-7f09-49be-89e2-79df2d443bce",
    "deepnote_cell_type": "markdown"
   }
  },
  {
   "cell_type": "markdown",
   "source": "### Pooling Layers\n\nA pooling layer reduces dimensionality (reducing the size of each feature map) and \"compresses\" information by combining several output elements. Two common functions used for pooling are:\n- Average pooling: calculating the average value for each patch on the feature map\n- Max pooling: calculating the maximum value for each patch of the feature map\n\nhttps://www.tensorflow.org/api_docs/python/tf/keras/layers/MaxPool1D\n\n```python\n# Example\ntf.keras.layers.MaxPool1D(pool_size=1)\n```",
   "metadata": {
    "id": "gVJMrZ09iUgk",
    "colab_type": "text",
    "cell_id": "00011-2216de3f-48e3-424d-9f33-b9860297a41b",
    "deepnote_cell_type": "markdown"
   }
  },
  {
   "cell_type": "markdown",
   "source": "### Activation Layers/Functions\n\nAn activation function looks at each \"neuron\" in your neural network and determines whether it should be activated (fired) or not, based on the relevancy of the neuron's input to the model’s predictions. Some different activation functions you could look at are:\n- softmax https://www.tensorflow.org/api_docs/python/tf/keras/layers/Softmax\n- sigmoid https://www.tensorflow.org/api_docs/python/tf/keras/activations/sigmoid\n- softplus https://www.tensorflow.org/api_docs/python/tf/keras/activations/softplus\n- relu https://www.tensorflow.org/api_docs/python/tf/keras/layers/ReLU\n\n```python\n# Example\ntf.keras.layers.Softmax()\n```",
   "metadata": {
    "id": "72ngF_beiaV9",
    "colab_type": "text",
    "cell_id": "00012-6812549e-b05e-4dc8-a63f-2622073afabd",
    "deepnote_cell_type": "markdown"
   }
  },
  {
   "cell_type": "markdown",
   "source": "### Optimation Functions\n\nOptimation functions\n- Adam https://www.tensorflow.org/api_docs/python/tf/keras/optimizers/Adam\n  - Adam is computationally efficient, has little memory requirement, and is well suited for problems that are large in terms of data/parameter.\n- Adagrad https://www.tensorflow.org/api_docs/python/tf/keras/optimizers/Adagrad\n  - Adagrad is an optimizer that is best used for sparse data. Some of its benefits are that it converges more quickly and doesn't need manual adjustment of the hyperparameter \"learning rate\".\n- SGD https://www.tensorflow.org/api_docs/python/tf/keras/optimizers/SGD\n  - SGD is a stochastic gradient descent and momentum optimizer. SGD essentially helps gradient vectors move down loss functions towards the minimum point, leading to faster \"converging\".\n- RMSprop https://keras.io/api/optimizers/rmsprop/\n  - As you may already know, the learning rate regulates how much the model \ncan change based on the estimated error (which occurs every time the model's weights are updated). Instead of treating the learning rate as a hyperparamter, RMSprop is an optimization technique that uses relies on a changing, adaptive learning rate.\n\n```python\n# Example code\nl_r = .001 \ntf.keras.optimizers.SGD(learning_rate=l_r)\n```",
   "metadata": {
    "id": "zCdxM6HDqR1F",
    "colab_type": "text",
    "cell_id": "00013-cc26129c-efa6-4f80-8c32-ecc5f8acc6be",
    "deepnote_cell_type": "markdown"
   }
  },
  {
   "cell_type": "markdown",
   "source": "## Putting Together Your Neural Network\n\nNow you will experiment with adding different layers to your neural network. We've added some guiding comments to give you a place to start and test out, but we also strongly encourage you to go through all the documetation and do some googling as well!",
   "metadata": {
    "id": "ldbularZ3cCW",
    "colab_type": "text",
    "cell_id": "00014-e86bf895-770f-4aee-a066-9796976cbfe1",
    "deepnote_cell_type": "markdown"
   }
  },
  {
   "cell_type": "code",
   "metadata": {
    "id": "qMp_z7W9vZV4",
    "colab_type": "code",
    "colab": {},
    "cell_id": "00015-2786eaa6-3d03-4330-9f45-471ab41bcff1",
    "deepnote_to_be_reexecuted": false,
    "source_hash": "da8d0ff2",
    "execution_start": 1626648127350,
    "execution_millis": 46,
    "deepnote_cell_type": "code"
   },
   "source": "# Once you've gone through all the tests play around with these rate alues to see if you can increase your accuracy\nl_r = .001 \nd_r = 0.6\n\nmodel = tf.keras.Sequential()\nmodel.add(tf.keras.layers.Dense(8, input_shape=(3,)))",
   "outputs": [],
   "execution_count": null
  },
  {
   "cell_type": "markdown",
   "source": "### Test 1",
   "metadata": {
    "id": "8OQKRfNjBWGC",
    "colab_type": "text",
    "cell_id": "00016-fb988a12-002e-4dc5-8a3d-935efd8e91a0",
    "deepnote_cell_type": "markdown"
   }
  },
  {
   "cell_type": "code",
   "metadata": {
    "id": "BneaEDk-BWj2",
    "colab_type": "code",
    "colab": {},
    "cell_id": "00017-50684f03-1657-412c-b131-b9fc86e2878e",
    "deepnote_to_be_reexecuted": false,
    "source_hash": "2ad6f3a5",
    "execution_start": 1626648127442,
    "execution_millis": 0,
    "deepnote_cell_type": "code"
   },
   "source": "# Run this cell as it is\nmodel.add(tf.keras.layers.Dense(8))\nmodel.add(tf.keras.layers.Dense(8))\n\n# output dimension needs to be number of classes in order for each to get a score\nmodel.add(tf.keras.layers.Dense(5))\n\n# Now skip down to the section that compiles and trains your model and run those cells.\n# Check the pseudo-test accuracy and see how well the bare minimum performed.",
   "outputs": [],
   "execution_count": null
  },
  {
   "cell_type": "markdown",
   "source": "### Test 2",
   "metadata": {
    "id": "djwaQho7_xBt",
    "colab_type": "text",
    "cell_id": "00018-aa705964-261c-410c-94e9-7a7c7c8c4ae4",
    "deepnote_cell_type": "markdown"
   }
  },
  {
   "cell_type": "code",
   "metadata": {
    "id": "o2MQzNEa_ViW",
    "colab_type": "code",
    "colab": {},
    "cell_id": "00019-0c9d10db-4cf3-4f60-8ad1-7a8a3c57e9ca",
    "deepnote_to_be_reexecuted": false,
    "source_hash": "6e11e59e",
    "execution_start": 1626648127442,
    "execution_millis": 44,
    "deepnote_cell_type": "code"
   },
   "source": "# Add activation layer here\nmodel.add(tf.keras.layers.Dense(8))\n# Add activation layer here\nmodel.add(tf.keras.layers.Dense(8))\n# Add activation layer here \n\n# output dimension needs to be number of classes in order for each to get a score\nmodel.add(tf.keras.layers.Dense(5))\n\n# Now skip down to the section that compiles and trains your model and re-run those cells.\n# What do you notice about the testing/Validation accuracy after Test 2 in comparison to Test 1?",
   "outputs": [],
   "execution_count": null
  },
  {
   "cell_type": "markdown",
   "source": "### Test 3",
   "metadata": {
    "id": "M_pr4L_0Bzt_",
    "colab_type": "text",
    "cell_id": "00020-53c0cc59-dc06-4a77-aa8a-49a8657580c7",
    "deepnote_cell_type": "markdown"
   }
  },
  {
   "cell_type": "code",
   "metadata": {
    "id": "pb-7sVYkB11c",
    "colab_type": "code",
    "colab": {},
    "cell_id": "00021-c60e6b9b-bd59-4a02-8c42-d9d41518d069",
    "deepnote_to_be_reexecuted": false,
    "source_hash": "b9c6f843",
    "execution_start": 1626648127486,
    "execution_millis": 12,
    "deepnote_cell_type": "code"
   },
   "source": "# Add activation layer here\nmodel.add(tf.keras.layers.Dense(8))\n# Add activation layer here\nmodel.add(tf.keras.layers.Dense(8))\n# Add activation layer here \n\n# output dimension needs to be number of classes in order for each to get a score\nmodel.add(tf.keras.layers.Dense(5))\n\n# Add dropout layer here\n\n# Now skip down to the section that compiles and trains your model and re-run those cells.\n# What do you notice about the testing/Validation accuracy after Test 2 in comparison to Test 1 & 2?",
   "outputs": [],
   "execution_count": null
  },
  {
   "cell_type": "markdown",
   "source": "### Test 4\n\nNow go back down to the cell where you compiled your model, and this time change the optimizer. It's been set to Adam by default but as we showed you above, there are other functions that you can test out.",
   "metadata": {
    "id": "YwjD-MgMDHFV",
    "colab_type": "text",
    "cell_id": "00022-baf28025-f35b-4326-b338-66bbd0239085",
    "deepnote_cell_type": "markdown"
   }
  },
  {
   "cell_type": "markdown",
   "source": "## Compiling and Training Your Model",
   "metadata": {
    "id": "Qhna7lr5Dm56",
    "colab_type": "text",
    "cell_id": "00023-155d9381-3a89-4433-bb86-70a27d8781ad",
    "deepnote_cell_type": "markdown"
   }
  },
  {
   "cell_type": "code",
   "metadata": {
    "id": "XB1qNpsoASGv",
    "colab_type": "code",
    "colab": {},
    "cell_id": "00024-210c9563-4067-45fa-a3d9-2c504c1e86f2",
    "deepnote_to_be_reexecuted": false,
    "source_hash": "ad2d3531",
    "execution_start": 1626648127549,
    "execution_millis": 0,
    "deepnote_cell_type": "code"
   },
   "source": "model.compile(loss = tf.keras.losses.categorical_crossentropy, \n              optimizer = tf.keras.optimizers.Adam(learning_rate=l_r),\n              metrics = ['accuracy'])   ",
   "outputs": [],
   "execution_count": null
  },
  {
   "cell_type": "markdown",
   "source": "Fit Model to Data, Specify Number of Epochs and Batch Size:",
   "metadata": {
    "id": "Tj1lwAY7BJPk",
    "colab_type": "text",
    "cell_id": "00025-f070f78a-ea71-4665-8ac6-e38f8b583b65",
    "deepnote_cell_type": "markdown"
   }
  },
  {
   "cell_type": "code",
   "metadata": {
    "id": "uF2RT0eGBIlD",
    "colab_type": "code",
    "colab": {},
    "cell_id": "00026-7069edd2-025f-4a76-ba4f-904f7f7d6b63",
    "deepnote_to_be_reexecuted": false,
    "source_hash": "9d84f374",
    "execution_start": 1626648127550,
    "execution_millis": 11094,
    "deepnote_cell_type": "code"
   },
   "source": "EPOCHS = 50\nbatch_size = 100\n\ntraining_set = training_set.batch(batch_size) #set batch size\n\nfor epoch in range(EPOCHS):\n    for signals, labels in training_set:\n        tr_loss, tr_accuracy = model.train_on_batch(signals, labels)\n    val_loss, val_accuracy = model.evaluate(X_data_val, y_labels_val)\n    print(('Epoch #%d\\t Training Loss: %.2f\\tTraining Accuracy: %.2f\\t'\n         'Validation Loss: %.2f\\tValidation Accuracy: %.2f')\n         % (epoch + 1, tr_loss, tr_accuracy,\n         val_loss, val_accuracy))",
   "outputs": [
    {
     "name": "stderr",
     "text": "2021-07-18 22:42:08.182876: I tensorflow/compiler/mlir/mlir_graph_optimization_pass.cc:116] None of the MLIR optimization passes are enabled (registered 2)\n2021-07-18 22:42:08.192371: I tensorflow/core/platform/profile_utils/cpu_utils.cc:112] CPU Frequency: 2199810000 Hz\n8/8 [==============================] - 0s 1ms/step - loss: 3.1682 - accuracy: 0.1880\nEpoch #1\t Training Loss: 4.22\tTraining Accuracy: 0.29\tValidation Loss: 3.17\tValidation Accuracy: 0.19\n8/8 [==============================] - 0s 1ms/step - loss: 2.9343 - accuracy: 0.2160\nEpoch #2\t Training Loss: 3.20\tTraining Accuracy: 0.28\tValidation Loss: 2.93\tValidation Accuracy: 0.22\n8/8 [==============================] - 0s 1ms/step - loss: 2.4143 - accuracy: 0.2240\nEpoch #3\t Training Loss: 2.53\tTraining Accuracy: 0.29\tValidation Loss: 2.41\tValidation Accuracy: 0.22\n8/8 [==============================] - 0s 2ms/step - loss: 2.2263 - accuracy: 0.2240\nEpoch #4\t Training Loss: 2.36\tTraining Accuracy: 0.26\tValidation Loss: 2.23\tValidation Accuracy: 0.22\n8/8 [==============================] - 0s 1ms/step - loss: 2.0238 - accuracy: 0.2280\nEpoch #5\t Training Loss: 1.80\tTraining Accuracy: 0.26\tValidation Loss: 2.02\tValidation Accuracy: 0.23\n8/8 [==============================] - 0s 2ms/step - loss: 1.8674 - accuracy: 0.2400\nEpoch #6\t Training Loss: 1.78\tTraining Accuracy: 0.26\tValidation Loss: 1.87\tValidation Accuracy: 0.24\n8/8 [==============================] - 0s 1ms/step - loss: 2.1559 - accuracy: 0.2360\nEpoch #7\t Training Loss: 1.91\tTraining Accuracy: 0.27\tValidation Loss: 2.16\tValidation Accuracy: 0.24\n8/8 [==============================] - 0s 1ms/step - loss: 2.0698 - accuracy: 0.2200\nEpoch #8\t Training Loss: 1.75\tTraining Accuracy: 0.27\tValidation Loss: 2.07\tValidation Accuracy: 0.22\n8/8 [==============================] - 0s 1ms/step - loss: 1.8596 - accuracy: 0.2240\nEpoch #9\t Training Loss: 2.02\tTraining Accuracy: 0.25\tValidation Loss: 1.86\tValidation Accuracy: 0.22\n8/8 [==============================] - 0s 1ms/step - loss: 1.7729 - accuracy: 0.2160\nEpoch #10\t Training Loss: 2.31\tTraining Accuracy: 0.26\tValidation Loss: 1.77\tValidation Accuracy: 0.22\n8/8 [==============================] - 0s 1ms/step - loss: 1.7564 - accuracy: 0.2280\nEpoch #11\t Training Loss: 2.31\tTraining Accuracy: 0.26\tValidation Loss: 1.76\tValidation Accuracy: 0.23\n8/8 [==============================] - 0s 1ms/step - loss: 1.8023 - accuracy: 0.2920\nEpoch #12\t Training Loss: 2.30\tTraining Accuracy: 0.33\tValidation Loss: 1.80\tValidation Accuracy: 0.29\n8/8 [==============================] - 0s 1ms/step - loss: 1.7733 - accuracy: 0.2480\nEpoch #13\t Training Loss: 2.03\tTraining Accuracy: 0.28\tValidation Loss: 1.77\tValidation Accuracy: 0.25\n8/8 [==============================] - 0s 1ms/step - loss: 1.7196 - accuracy: 0.2000\nEpoch #14\t Training Loss: 1.75\tTraining Accuracy: 0.22\tValidation Loss: 1.72\tValidation Accuracy: 0.20\n8/8 [==============================] - 0s 1ms/step - loss: 1.8937 - accuracy: 0.1680\nEpoch #15\t Training Loss: 1.62\tTraining Accuracy: 0.21\tValidation Loss: 1.89\tValidation Accuracy: 0.17\n8/8 [==============================] - 0s 1ms/step - loss: 1.8547 - accuracy: 0.1520\nEpoch #16\t Training Loss: 1.74\tTraining Accuracy: 0.14\tValidation Loss: 1.85\tValidation Accuracy: 0.15\n8/8 [==============================] - 0s 1ms/step - loss: 1.7843 - accuracy: 0.1640\nEpoch #17\t Training Loss: 1.61\tTraining Accuracy: 0.16\tValidation Loss: 1.78\tValidation Accuracy: 0.16\n8/8 [==============================] - 0s 1ms/step - loss: 1.6706 - accuracy: 0.2080\nEpoch #18\t Training Loss: 1.61\tTraining Accuracy: 0.20\tValidation Loss: 1.67\tValidation Accuracy: 0.21\n8/8 [==============================] - 0s 3ms/step - loss: 1.6070 - accuracy: 0.2000\nEpoch #19\t Training Loss: 1.76\tTraining Accuracy: 0.20\tValidation Loss: 1.61\tValidation Accuracy: 0.20\n8/8 [==============================] - 0s 1ms/step - loss: 1.6668 - accuracy: 0.1560\nEpoch #20\t Training Loss: 1.76\tTraining Accuracy: 0.14\tValidation Loss: 1.67\tValidation Accuracy: 0.16\n8/8 [==============================] - 0s 1ms/step - loss: 1.6157 - accuracy: 0.1560\nEpoch #21\t Training Loss: 1.75\tTraining Accuracy: 0.14\tValidation Loss: 1.62\tValidation Accuracy: 0.16\n8/8 [==============================] - 0s 2ms/step - loss: 1.5960 - accuracy: 0.1720\nEpoch #22\t Training Loss: 1.77\tTraining Accuracy: 0.07\tValidation Loss: 1.60\tValidation Accuracy: 0.17\n8/8 [==============================] - 0s 1ms/step - loss: 1.7650 - accuracy: 0.2040\nEpoch #23\t Training Loss: 1.61\tTraining Accuracy: 0.10\tValidation Loss: 1.77\tValidation Accuracy: 0.20\n8/8 [==============================] - 0s 1ms/step - loss: 1.8327 - accuracy: 0.2120\nEpoch #24\t Training Loss: 1.63\tTraining Accuracy: 0.15\tValidation Loss: 1.83\tValidation Accuracy: 0.21\n8/8 [==============================] - 0s 1ms/step - loss: 1.6192 - accuracy: 0.2120\nEpoch #25\t Training Loss: 1.62\tTraining Accuracy: 0.16\tValidation Loss: 1.62\tValidation Accuracy: 0.21\n8/8 [==============================] - 0s 3ms/step - loss: 2.0675 - accuracy: 0.1320\nEpoch #26\t Training Loss: 2.28\tTraining Accuracy: 0.17\tValidation Loss: 2.07\tValidation Accuracy: 0.13\n8/8 [==============================] - 0s 1ms/step - loss: 2.3411 - accuracy: 0.1360\nEpoch #27\t Training Loss: 2.11\tTraining Accuracy: 0.16\tValidation Loss: 2.34\tValidation Accuracy: 0.14\n8/8 [==============================] - 0s 1ms/step - loss: 2.2939 - accuracy: 0.1680\nEpoch #28\t Training Loss: 1.87\tTraining Accuracy: 0.17\tValidation Loss: 2.29\tValidation Accuracy: 0.17\n8/8 [==============================] - 0s 1ms/step - loss: 2.2378 - accuracy: 0.1720\nEpoch #29\t Training Loss: 1.84\tTraining Accuracy: 0.20\tValidation Loss: 2.24\tValidation Accuracy: 0.17\n8/8 [==============================] - 0s 1ms/step - loss: 2.2288 - accuracy: 0.2480\nEpoch #30\t Training Loss: 1.90\tTraining Accuracy: 0.22\tValidation Loss: 2.23\tValidation Accuracy: 0.25\n8/8 [==============================] - 0s 1ms/step - loss: 1.6974 - accuracy: 0.2000\nEpoch #31\t Training Loss: 1.75\tTraining Accuracy: 0.18\tValidation Loss: 1.70\tValidation Accuracy: 0.20\n8/8 [==============================] - 0s 1ms/step - loss: 1.7214 - accuracy: 0.1840\nEpoch #32\t Training Loss: 1.92\tTraining Accuracy: 0.20\tValidation Loss: 1.72\tValidation Accuracy: 0.18\n8/8 [==============================] - 0s 1ms/step - loss: 1.9969 - accuracy: 0.2840\nEpoch #33\t Training Loss: 1.95\tTraining Accuracy: 0.26\tValidation Loss: 2.00\tValidation Accuracy: 0.28\n8/8 [==============================] - 0s 1ms/step - loss: 1.6107 - accuracy: 0.2480\nEpoch #34\t Training Loss: 1.66\tTraining Accuracy: 0.17\tValidation Loss: 1.61\tValidation Accuracy: 0.25\n8/8 [==============================] - 0s 1ms/step - loss: 1.7239 - accuracy: 0.2640\nEpoch #35\t Training Loss: 1.61\tTraining Accuracy: 0.19\tValidation Loss: 1.72\tValidation Accuracy: 0.26\n8/8 [==============================] - 0s 1ms/step - loss: 1.6542 - accuracy: 0.2520\nEpoch #36\t Training Loss: 1.60\tTraining Accuracy: 0.16\tValidation Loss: 1.65\tValidation Accuracy: 0.25\n8/8 [==============================] - 0s 1ms/step - loss: 1.6084 - accuracy: 0.2240\nEpoch #37\t Training Loss: 1.60\tTraining Accuracy: 0.16\tValidation Loss: 1.61\tValidation Accuracy: 0.22\n8/8 [==============================] - 0s 1ms/step - loss: 1.6090 - accuracy: 0.2240\nEpoch #38\t Training Loss: 1.60\tTraining Accuracy: 0.16\tValidation Loss: 1.61\tValidation Accuracy: 0.22\n8/8 [==============================] - 0s 1ms/step - loss: 1.6098 - accuracy: 0.2160\nEpoch #39\t Training Loss: 1.60\tTraining Accuracy: 0.15\tValidation Loss: 1.61\tValidation Accuracy: 0.22\n8/8 [==============================] - 0s 1ms/step - loss: 1.6638 - accuracy: 0.2400\nEpoch #40\t Training Loss: 1.60\tTraining Accuracy: 0.15\tValidation Loss: 1.66\tValidation Accuracy: 0.24\n8/8 [==============================] - 0s 1ms/step - loss: 1.7075 - accuracy: 0.2200\nEpoch #41\t Training Loss: 1.59\tTraining Accuracy: 0.20\tValidation Loss: 1.71\tValidation Accuracy: 0.22\n8/8 [==============================] - 0s 1ms/step - loss: 1.6919 - accuracy: 0.2000\nEpoch #42\t Training Loss: 2.07\tTraining Accuracy: 0.20\tValidation Loss: 1.69\tValidation Accuracy: 0.20\n8/8 [==============================] - 0s 1ms/step - loss: 1.6722 - accuracy: 0.1960\nEpoch #43\t Training Loss: 1.92\tTraining Accuracy: 0.20\tValidation Loss: 1.67\tValidation Accuracy: 0.20\n8/8 [==============================] - 0s 1ms/step - loss: 1.6259 - accuracy: 0.1960\nEpoch #44\t Training Loss: 1.76\tTraining Accuracy: 0.18\tValidation Loss: 1.63\tValidation Accuracy: 0.20\n8/8 [==============================] - 0s 1ms/step - loss: 1.7259 - accuracy: 0.2440\nEpoch #45\t Training Loss: 1.60\tTraining Accuracy: 0.20\tValidation Loss: 1.73\tValidation Accuracy: 0.24\n8/8 [==============================] - 0s 1ms/step - loss: 1.7261 - accuracy: 0.2440\nEpoch #46\t Training Loss: 1.59\tTraining Accuracy: 0.20\tValidation Loss: 1.73\tValidation Accuracy: 0.24\n8/8 [==============================] - 0s 1ms/step - loss: 1.6193 - accuracy: 0.2440\nEpoch #47\t Training Loss: 1.64\tTraining Accuracy: 0.19\tValidation Loss: 1.62\tValidation Accuracy: 0.24\n8/8 [==============================] - 0s 1ms/step - loss: 1.6184 - accuracy: 0.2440\nEpoch #48\t Training Loss: 1.63\tTraining Accuracy: 0.19\tValidation Loss: 1.62\tValidation Accuracy: 0.24\n8/8 [==============================] - 0s 1ms/step - loss: 1.6718 - accuracy: 0.2360\nEpoch #49\t Training Loss: 1.64\tTraining Accuracy: 0.19\tValidation Loss: 1.67\tValidation Accuracy: 0.24\n8/8 [==============================] - 0s 1ms/step - loss: 1.6736 - accuracy: 0.2400\nEpoch #50\t Training Loss: 1.59\tTraining Accuracy: 0.17\tValidation Loss: 1.67\tValidation Accuracy: 0.24\n",
     "output_type": "stream"
    }
   ],
   "execution_count": null
  },
  {
   "cell_type": "code",
   "metadata": {
    "id": "4GipGyEkBQdj",
    "colab_type": "code",
    "colab": {},
    "cell_id": "00027-d53ff229-1c0a-45fc-b1d0-994d0bc83647",
    "deepnote_to_be_reexecuted": false,
    "source_hash": "29dc4eb9",
    "execution_start": 1626648138693,
    "execution_millis": 49,
    "deepnote_cell_type": "code"
   },
   "source": "#Check Performance on Test Set\ntest_loss, test_accuracy = model.evaluate(X_data_test, y_labels_test)",
   "outputs": [
    {
     "name": "stdout",
     "text": "8/8 [==============================] - 0s 1ms/step - loss: 1.6703 - accuracy: 0.2240\n",
     "output_type": "stream"
    }
   ],
   "execution_count": null
  },
  {
   "cell_type": "markdown",
   "source": "Now modify the existing model even more, and try to find the highest and appropriate testing and validation accuracy!",
   "metadata": {
    "id": "maTNvEQpbkoS",
    "colab_type": "text",
    "cell_id": "00028-3ef836de-c008-47b7-906d-6aa0900295fc",
    "deepnote_cell_type": "markdown"
   }
  },
  {
   "cell_type": "markdown",
   "source": "<a style='text-decoration:none;line-height:16px;display:flex;color:#5B5B62;padding:10px;justify-content:end;' href='https://deepnote.com?utm_source=created-in-deepnote-cell&projectId=ea64f2fe-fb8d-4ed3-839c-873225803319' target=\"_blank\">\n<img alt='Created in deepnote.com' style='display:inline;max-height:16px;margin:0px;margin-right:7.5px;' src='data:image/svg+xml;base64,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' > </img>\nCreated in <span style='font-weight:600;margin-left:4px;'>Deepnote</span></a>",
   "metadata": {
    "tags": [],
    "created_in_deepnote_cell": true,
    "deepnote_cell_type": "markdown"
   }
  }
 ],
 "nbformat": 4,
 "nbformat_minor": 0,
 "metadata": {
  "colab": {
   "name": "NeuralNetworks_Exercises.ipynb",
   "provenance": [],
   "collapsed_sections": []
  },
  "kernelspec": {
   "name": "python3",
   "display_name": "Python 3"
  },
  "deepnote_notebook_id": "52007166-05a0-48e3-9054-ac85dba92b7b",
  "deepnote": {},
  "deepnote_execution_queue": []
 }
}